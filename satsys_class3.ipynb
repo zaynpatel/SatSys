{
 "cells": [
  {
   "cell_type": "code",
   "execution_count": 41,
   "id": "a7cff1eb",
   "metadata": {},
   "outputs": [],
   "source": [
    "import math\n",
    "import numpy as np"
   ]
  },
  {
   "cell_type": "code",
   "execution_count": 17,
   "id": "be58e3da",
   "metadata": {},
   "outputs": [
    {
     "data": {
      "text/plain": [
       "24.86231907116997"
      ]
     },
     "execution_count": 17,
     "metadata": {},
     "output_type": "execute_result"
    }
   ],
   "source": [
    "# orbital velocity\n",
    "mew = 398600\n",
    "radius = 1200\n",
    "area = 8628\n",
    "re = 6378 # radius of the earth constant\n",
    "h_oneweb = 1200 # oneweb altitude\n",
    "velocity = np.sqrt(mew * (2 / radius - 1/area))\n",
    "velocity"
   ]
  },
  {
   "cell_type": "code",
   "execution_count": 16,
   "id": "9bfbbd68",
   "metadata": {},
   "outputs": [
    {
     "data": {
      "text/plain": [
       "7.252560272715369"
      ]
     },
     "execution_count": 16,
     "metadata": {},
     "output_type": "execute_result"
    }
   ],
   "source": [
    "velocity = np.sqrt(mew/(6378 + 1200))\n",
    "velocity # 7.25 km/s (correct)"
   ]
  },
  {
   "cell_type": "code",
   "execution_count": 55,
   "id": "6a21bcf6",
   "metadata": {},
   "outputs": [
    {
     "data": {
      "text/plain": [
       "7.503052093271403"
      ]
     },
     "execution_count": 55,
     "metadata": {},
     "output_type": "execute_result"
    }
   ],
   "source": [
    "# figuring out apogee\n",
    "min_velocity = np.sqrt(mew * np.abs((2/(1400 + 6378)) - (1/8628)))\n",
    "min_velocity"
   ]
  },
  {
   "cell_type": "code",
   "execution_count": 47,
   "id": "2b773165",
   "metadata": {},
   "outputs": [
    {
     "data": {
      "text/plain": [
       "8.349093533383781"
      ]
     },
     "execution_count": 47,
     "metadata": {},
     "output_type": "execute_result"
    }
   ],
   "source": [
    "# figuring out perigee\n",
    "max_velocity = np.sqrt(mew * np.abs((2/6878) - (1/8628)))\n",
    "max_velocity # 8.35"
   ]
  },
  {
   "cell_type": "code",
   "execution_count": 66,
   "id": "f6bc482c",
   "metadata": {},
   "outputs": [
    {
     "data": {
      "text/plain": [
       "10767.0"
      ]
     },
     "execution_count": 66,
     "metadata": {},
     "output_type": "execute_result"
    }
   ],
   "source": [
    "# how do we get area number\n",
    "a = ((500 + 6378) + (1400 + 6378) / 2)\n",
    "a"
   ]
  }
 ],
 "metadata": {
  "kernelspec": {
   "display_name": "Python 3",
   "language": "python",
   "name": "python3"
  },
  "language_info": {
   "codemirror_mode": {
    "name": "ipython",
    "version": 3
   },
   "file_extension": ".py",
   "mimetype": "text/x-python",
   "name": "python",
   "nbconvert_exporter": "python",
   "pygments_lexer": "ipython3",
   "version": "3.8.8"
  }
 },
 "nbformat": 4,
 "nbformat_minor": 5
}
