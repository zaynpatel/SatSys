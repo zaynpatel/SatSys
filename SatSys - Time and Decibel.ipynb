{
 "cells": [
  {
   "cell_type": "markdown",
   "id": "77070a22",
   "metadata": {},
   "source": [
    "### Julian Day Calc Example\n",
    "\n",
    "Three variables appear in the Julian Day calculation - m, d, y - or month, day year. \n",
    "\n",
    "The calculation is bounded in years from 1901 to 2099. \n",
    "\n",
    "In the example below, I'd like to compute the Julian Day for the day the US landed on the moon: July 20, 1969. "
   ]
  },
  {
   "cell_type": "code",
   "execution_count": 1,
   "id": "a65f3335",
   "metadata": {},
   "outputs": [
    {
     "data": {
      "text/plain": [
       "2440422.5"
      ]
     },
     "execution_count": 1,
     "metadata": {},
     "output_type": "execute_result"
    }
   ],
   "source": [
    "import numpy as np\n",
    "import math\n",
    "\n",
    "y = 1969\n",
    "m = 7\n",
    "d = 20\n",
    "\n",
    "# in the original formula, INT refers to round to floor. \n",
    "\n",
    "\"\"\"\n",
    "formula in code:\n",
    "\n",
    "julian_day = 367*y np.round(7*(y + np.round(m + 9)/12)/4) + np.round((275*m)/9) + 20 + 1721013.5\n",
    "\n",
    "\"\"\"\n",
    "\n",
    "julian_day = 367* 1969 - np.round((7*(1969 + 1)) / 4) + 214 + 20 + 1721013.5\n",
    "julian_day"
   ]
  },
  {
   "cell_type": "code",
   "execution_count": 2,
   "id": "bfe272fd",
   "metadata": {},
   "outputs": [
    {
     "data": {
      "text/plain": [
       "-0.304517453798768"
      ]
     },
     "execution_count": 2,
     "metadata": {},
     "output_type": "execute_result"
    }
   ],
   "source": [
    "# epoch time is the amount of time in seconds since Jan 1, 1970\n",
    "# initial time in Julian centuries between Julian day and standard epoch\n",
    "initial_time = (julian_day - 2451545)/(36525)\n",
    "initial_time\n",
    "\n",
    "# negative time because epoch time begins in 1970 and we're calculating for 1969"
   ]
  },
  {
   "cell_type": "markdown",
   "id": "afe5c30c",
   "metadata": {},
   "source": [
    "### Problem Set 4: Time\n",
    "\n",
    "Problem 1: Write code to compute the Julian Day of my birthday and a friends birthday, then compute the difference. *Julian Day Time is extremely useful when computing the difference between two events.* \n",
    "\n",
    "The difference in the first function block is between two Julian days but not between two universal time days. \n",
    "\n",
    "Variables A and B are added to account for Gregorian leap years which are divisble by 100 but not 4. Universal Time was another paramter added. "
   ]
  },
  {
   "cell_type": "code",
   "execution_count": 3,
   "id": "c9bcebd9",
   "metadata": {},
   "outputs": [
    {
     "data": {
      "text/plain": [
       "594.0"
      ]
     },
     "execution_count": 3,
     "metadata": {},
     "output_type": "execute_result"
    }
   ],
   "source": [
    "my_birthday = 367* 2003 - np.round((9*(2003 + (9+9/12))) / 4) + ((275 * 9)/9) + 10 + 1721013.5\n",
    "my_birthday\n",
    "\n",
    "friends_birthday = 367* 2006 - np.round((10*(2006 + (10+9/12))) / 4) + ((275 * 10)/10) + 16 + 1721013.5\n",
    "friends_birthday\n",
    "\n",
    "difference = np.abs(my_birthday - friends_birthday)\n",
    "difference"
   ]
  },
  {
   "cell_type": "code",
   "execution_count": 4,
   "id": "a7a5a200",
   "metadata": {},
   "outputs": [
    {
     "name": "stdout",
     "output_type": "stream",
     "text": [
      "1132.0\n"
     ]
    }
   ],
   "source": [
    "import math\n",
    "\n",
    "def julian_day_number(year, month, day, UT=12):\n",
    "    \"\"\"Calculate the Julian day number for a given date and universal time.\"\"\"\n",
    "    if month < 3:\n",
    "        year -= 1\n",
    "        month += 12\n",
    "    A = math.floor(year / 100)\n",
    "    B = 2 - A + math.floor(A / 4)\n",
    "    JD = math.floor(365.25 * (year + 4716)) + math.floor(30.6001 * (month + 1)) + day + B - 1524.5 + UT / 24\n",
    "    return JD\n",
    "\n",
    "# Example dates: my_birthday and friends_birthday\n",
    "date1 = (2003, 9, 10)\n",
    "date2 = (2006, 10, 16)\n",
    "\n",
    "# Calculate Julian day numbers for each date\n",
    "JD1 = julian_day_number(*date1)\n",
    "JD2 = julian_day_number(*date2)\n",
    "\n",
    "# Calculate Julian day difference between the two dates\n",
    "jd_difference = abs(JD2 - JD1)\n",
    "\n",
    "print(jd_difference)"
   ]
  },
  {
   "cell_type": "markdown",
   "id": "b9c1443b",
   "metadata": {},
   "source": [
    "Problem 2: What is the difference between a solar, sidereal, and synodic day?\n",
    "\n",
    "- A solar day is how we typically set our days today, 24 hours, the amount of time for the sun to go return to the same position everyday. \n",
    "- A sidereal day, also known as synodic day, is measured based on the Earth's position relative to the fixed stars and the time measurement is 23 hours, 56 minutes, and 4 seconds. \n",
    "\n",
    "Note: UT is determined by the Sun's passage over Greenwich meridan, which is at 0 degrees longitude. \n",
    "\n",
    "*Skipped problem 3 because it's about creating more Julian days.*"
   ]
  },
  {
   "cell_type": "markdown",
   "id": "7dbc986a",
   "metadata": {},
   "source": [
    "Problem 4: How much time has elapsed between October 4, 1957 UT 19:26:24 and May 13, 2004 at 14:45:30?"
   ]
  },
  {
   "cell_type": "code",
   "execution_count": 9,
   "id": "226bb4a0",
   "metadata": {},
   "outputs": [
    {
     "data": {
      "text/plain": [
       "datetime.timedelta(days=17022, seconds=69546)"
      ]
     },
     "execution_count": 9,
     "metadata": {},
     "output_type": "execute_result"
    }
   ],
   "source": [
    "from datetime import datetime\n",
    "\n",
    "# Define the two dates as datetime objects\n",
    "date1 = datetime(1957, 10, 4, 19, 26, 24)\n",
    "date2 = datetime(2004, 5, 13, 14, 45, 30)\n",
    "\n",
    "# Calculate the time difference between the two dates\n",
    "elapsed_time = date2 - date1\n",
    "elapsed_time"
   ]
  },
  {
   "cell_type": "code",
   "execution_count": null,
   "id": "142df271",
   "metadata": {},
   "outputs": [],
   "source": [
    "from datetime import datetime, timedelta\n",
    "import math\n",
    "\n",
    "# Define the date and time in UTC\n",
    "date = datetime(2004, 3, 3, 4, 30, 0)\n",
    "\n",
    "# Calculate the number of Julian centuries since J2000.0\n",
    "j2000 = datetime(2000, 1, 1, 12)  # J2000.0 is noon on January 1, 2000 UT\n",
    "T = (date - j2000).total_seconds() / (86400 * 36525)\n",
    "\n",
    "# Calculate the Greenwich Mean Sidereal Time in hours\n",
    "GMST = 18.697374558 + 24.06570982441908 * T\n",
    "\n",
    "# Convert GMST to degrees\n",
    "GMST_deg = GMST * 15\n",
    "\n",
    "# Calculate the local sidereal time in degrees\n",
    "longitude = 139.8\n",
    "LST = GMST_deg + longitude\n",
    "if LST < 0:\n",
    "    LST += 360\n",
    "elif LST >= 360:\n",
    "    LST -= 360\n",
    "\n",
    "# Print the local sidereal time in degrees\n",
    "print(f\"The local sidereal time in Tokyo, Japan on March 3, 2004 at 4:30:00 UT is {LST:.2f} degrees.\")"
   ]
  }
 ],
 "metadata": {
  "kernelspec": {
   "display_name": "Python 3",
   "language": "python",
   "name": "python3"
  },
  "language_info": {
   "codemirror_mode": {
    "name": "ipython",
    "version": 3
   },
   "file_extension": ".py",
   "mimetype": "text/x-python",
   "name": "python",
   "nbconvert_exporter": "python",
   "pygments_lexer": "ipython3",
   "version": "3.8.8"
  }
 },
 "nbformat": 4,
 "nbformat_minor": 5
}
