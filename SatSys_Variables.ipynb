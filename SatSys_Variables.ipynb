{
  "nbformat": 4,
  "nbformat_minor": 0,
  "metadata": {
    "colab": {
      "provenance": [],
      "collapsed_sections": [
        "bdl_3cbMCK79",
        "cn1FOMaDChOM",
        "AlaBaq4m2bdE",
        "GbXWL67CYIHz",
        "NvujjLptDjXY"
      ],
      "include_colab_link": true
    },
    "kernelspec": {
      "name": "python3",
      "display_name": "Python 3"
    },
    "language_info": {
      "name": "python"
    }
  },
  "cells": [
    {
      "cell_type": "markdown",
      "metadata": {
        "id": "view-in-github",
        "colab_type": "text"
      },
      "source": [
        "<a href=\"https://colab.research.google.com/github/zaynpatel/SatSys/blob/main/SatSys_Variables.ipynb\" target=\"_parent\"><img src=\"https://colab.research.google.com/assets/colab-badge.svg\" alt=\"Open In Colab\"/></a>"
      ]
    },
    {
      "cell_type": "markdown",
      "source": [
        "# SatSys Calculator"
      ],
      "metadata": {
        "id": "pVinrXAzPwda"
      }
    },
    {
      "cell_type": "code",
      "source": [
        "import numpy as np\n",
        "import matplotlib.pyplot as plt"
      ],
      "metadata": {
        "id": "l6fZVpKoSr2U"
      },
      "execution_count": null,
      "outputs": []
    },
    {
      "cell_type": "code",
      "execution_count": null,
      "metadata": {
        "id": "S0JK1V0mR300"
      },
      "outputs": [],
      "source": [
        "# All constants\n",
        "Re    = 6378        # km\n",
        "geo   = 35786       # km\n",
        "c     = 299792458   # m/s\n",
        "mu    = 398600      # km3/s2\n",
        "G     = 6.67e-11    #\n",
        "v_esc = 11.2        # escape velocity, km/s\n",
        "k     = 1.38e-23    # Boltzmann constant (J/K)\n",
        "k_dB  = -228.6      # Boltzmann constant in decibels (dB * J/K)"
      ]
    },
    {
      "cell_type": "markdown",
      "source": [
        "## Chapter 3: Orbit Types and Elements"
      ],
      "metadata": {
        "id": "bdl_3cbMCK79"
      }
    },
    {
      "cell_type": "code",
      "source": [
        "def semi_major_axis(ra, rp):\n",
        "  \"\"\"\n",
        "  ra: radius to the apogee\n",
        "  rp: radius to the parogee\n",
        "  \"\"\"\n",
        "  # Add radius of earth to apogee and perigee radii\n",
        "  ra += Re \n",
        "  rp += Re\n",
        "  semi_major_axis = ((ra + rp) / 2)\n",
        "  return semi_major_axis"
      ],
      "metadata": {
        "id": "VLVd13sVCOiU"
      },
      "execution_count": null,
      "outputs": []
    },
    {
      "cell_type": "code",
      "source": [
        "# TEST WORKS WITH TEXTBOOK ANSWER\n",
        "testing = semi_major_axis(1500, 1000)\n",
        "print(testing)"
      ],
      "metadata": {
        "colab": {
          "base_uri": "https://localhost:8080/"
        },
        "id": "gWyvZc1gCPNf",
        "outputId": "db3beda0-a9f6-4d7d-fce2-c619dc180f31"
      },
      "execution_count": null,
      "outputs": [
        {
          "output_type": "stream",
          "name": "stdout",
          "text": [
            "7628.0\n"
          ]
        }
      ]
    },
    {
      "cell_type": "code",
      "source": [
        "def eccentricity(ra, rp):\n",
        "  \"\"\"\n",
        "  ra: radius to the apogee\n",
        "  rp: radius to the parogee\n",
        "  \"\"\"\n",
        "  eccentricity = (ra - rp) / (ra + rp)\n",
        "  return eccentricity"
      ],
      "metadata": {
        "id": "zJj_RTG7CR7T"
      },
      "execution_count": null,
      "outputs": []
    },
    {
      "cell_type": "code",
      "source": [
        "### TESTED WITH NUMBERS IN THE TEXTBOOK BUT WANT TO INCLUDE EARTH'S RADIUS IN COMPUTATION\n",
        "\n",
        "testing = eccentricity(7878, 7378)\n",
        "print(testing)"
      ],
      "metadata": {
        "colab": {
          "base_uri": "https://localhost:8080/"
        },
        "id": "Hkmg_rEYCTne",
        "outputId": "567b6492-7910-4eff-fd78-cc9658a32f44"
      },
      "execution_count": null,
      "outputs": [
        {
          "output_type": "stream",
          "name": "stdout",
          "text": [
            "0.03277399056109072\n"
          ]
        }
      ]
    },
    {
      "cell_type": "markdown",
      "source": [
        "## Chapter 4: Orbital Mechanics 2D"
      ],
      "metadata": {
        "id": "cn1FOMaDChOM"
      }
    },
    {
      "cell_type": "code",
      "source": [
        "# Gravitational force\n",
        "def gravitational_force(m1, m2, r):\n",
        "    \"\"\"\n",
        "    Calculate gravitational force between two bodies of matter\n",
        "    m1: the mass of the first body (kg)\n",
        "    m2: the mass of the second body (kg)\n",
        "    r : distance between the two bodies (m)\n",
        "\n",
        "    OUTPUT: force F in Newtons between the two bodies\n",
        "    \"\"\"\n",
        "    F = G*m1*m2/(r**2)\n",
        "    return F"
      ],
      "metadata": {
        "id": "kgse0o9ewqU-"
      },
      "execution_count": null,
      "outputs": []
    },
    {
      "cell_type": "code",
      "source": [
        "# Orbital period\n",
        "def get_orbital_period(a):\n",
        "    \"\"\"\n",
        "    Get the time required for a satellite to complete its orbit\n",
        "    a: semimajor axis of the orbit\n",
        "    \"\"\"\n",
        "    T = 2*np.pi * a**1.5 / np.sqrt(mu)"
      ],
      "metadata": {
        "id": "pCT7Xr_8xK5u"
      },
      "execution_count": null,
      "outputs": []
    },
    {
      "cell_type": "code",
      "source": [
        "def get_total_energy(a):\n",
        "    \"\"\"\n",
        "    Get the energy of a satellite; energy is conserved, being exchanged\n",
        "    between potential and kinetic, with the sum total being constant.\n",
        "    a: semimajor axis of the orbit\n",
        "    \"\"\"\n",
        "    return -mu / (2*a)"
      ],
      "metadata": {
        "id": "784NYNczyFa2"
      },
      "execution_count": null,
      "outputs": []
    },
    {
      "cell_type": "code",
      "source": [
        "def vis_viva(v, r):\n",
        "    \"\"\"\n",
        "    Another way to express the total energy of an orbit\n",
        "    v: velocity of satellite (m/s)\n",
        "    r: altitude of satellite (m)\n",
        "    \"\"\"\n",
        "    return (v**2 / 2) - (mu / r)"
      ],
      "metadata": {
        "id": "psNwW27tzFlQ"
      },
      "execution_count": null,
      "outputs": []
    },
    {
      "cell_type": "code",
      "source": [
        "def orbit_radius(a, e, theta):\n",
        "    \"\"\"\n",
        "    The orbit equation. Find the altitude of of the satellite given its True Anomaly.\n",
        "    a: semimajor axis (km)\n",
        "    e: eccentricity (constant, no units)\n",
        "    theta: True Anomaly (degrees) (angle between perigee and position of spacecraft)\n",
        "    \"\"\"\n",
        "    return a * (1 - e**2) / (1 + e*np.cos(theta))"
      ],
      "metadata": {
        "id": "gb1l-sTM0UQt"
      },
      "execution_count": null,
      "outputs": []
    },
    {
      "cell_type": "markdown",
      "source": [
        "## Chapter 5: Hohmann Transfers"
      ],
      "metadata": {
        "id": "AlaBaq4m2bdE"
      }
    },
    {
      "cell_type": "code",
      "source": [
        "def hohmann_calc(r0, rf, mu=mu, R=Re):\n",
        "    \"\"\"\n",
        "    Calculates changes in velocity to get from one orbital radius to another.\n",
        "    INPUTS:\n",
        "    - r0    : radius of initial orbit (km)\n",
        "    - rf    : radius of final orbit (km)\n",
        "    - mu    : gravitational parameter (km3/s2), defaulted as that of Earth\n",
        "    - R     : radius of planetary body (km), defaulted as that of Earth\n",
        "    OUTPUTS:\n",
        "    - v1    : change in velocity to leave initial orbit (km/s)\n",
        "    - v2    : change in velocity to leave final orbit (km/s)\n",
        "    - v_sum : sum of v1 and v2, reflecting change in velocity between two \n",
        "              orbits (km/s)\n",
        "    - t     : time it takes for one initial orbit, transfer, and one final\n",
        "              orbit (s)\n",
        "    - T0    : initial orbital period (s)\n",
        "    - Tf    : final orbital period (s)\n",
        "    - Tt    : time to transfer from one orbit to the other (s)\n",
        "\n",
        "    Outputs return as a list\n",
        "    \"\"\"\n",
        "    # Add radius of Earth to get true altitudes of orbits\n",
        "    alt0 = r0 + Re\n",
        "    altf = rf + Re\n",
        "\n",
        "    v1 = np.sqrt(2*mu*altf / (alt0*(alt0 + altf))) - np.sqrt(mu / alt0)\n",
        "    v2 = np.sqrt(mu / altf) - np.sqrt(2*mu*alt0 / (altf*(alt0 + altf)))\n",
        "\n",
        "    v_sum = v1 + v2\n",
        "\n",
        "    # Calculate semimajor axes\n",
        "    # For circular orbits, a = r; for transitionary orbits, they are the \n",
        "    # average of the two radii\n",
        "    a_trans = semi_major_axis(alt0, altf)\n",
        "\n",
        "    # Calculate periods\n",
        "    #\n",
        "    # Note the transitionary period is multiplied by 1/2 since it takes 1/2\n",
        "    # the total transitionary period to get from the initial orbit to the final\n",
        "    # orbit\n",
        "    T0 = get_orbital_period(alt0)        # Initial period\n",
        "    Tt = 0.5*get_orbital_period(a_trans) # Transitionary period\n",
        "    Tf = get_orbital_period(altf)        # Final period\n",
        "\n",
        "    # t as defined in docstring\n",
        "    t = T0 + Tt + Tf\n",
        "\n",
        "    # Return outputs\n",
        "    return [v1, v2, v_sum, t, T0, Tf, Tt]"
      ],
      "metadata": {
        "id": "ih2xqFhb2gGj"
      },
      "execution_count": null,
      "outputs": []
    },
    {
      "cell_type": "code",
      "source": [
        "# To get Hohmann transfer calculator for any planet, change values of mu and R\n",
        "def hohmann_calc_sun(r0, rf):\n",
        "    \"\"\"\n",
        "    Calculates changes in velocity to get from one orbital radius to another,\n",
        "    specifically orbits on the Sun.\n",
        "    \"\"\"\n",
        "    return hohmann_calc(r0, rf, mu=1.326e11, R=695000)"
      ],
      "metadata": {
        "id": "ZjBOYAzMBMJi"
      },
      "execution_count": null,
      "outputs": []
    },
    {
      "cell_type": "markdown",
      "source": [
        "## Chapter 6: Time"
      ],
      "metadata": {
        "id": "GbXWL67CYIHz"
      }
    },
    {
      "cell_type": "code",
      "source": [
        "def julian_day(year, month, day):\n",
        "  \"\"\"\n",
        "  julian_day is a function that takes in the three params needed to calculate a julian day and computs them. Julian days are valuable because they're a way to meausre time and synchronize with the roman calendar.\n",
        "  year: calculation is bounded by years 1901 to 2099\n",
        "  month: bounded from 1-12\n",
        "  day: bounded from 1-31\n",
        "  \"\"\"\n",
        "  julian_day = 367 * year - np.round(7*(year + np.round(month + 9)/12)/4) + np.round((275*month)/9) + day + 1721013.5\n",
        "  return julian_day"
      ],
      "metadata": {
        "id": "NnHGt9ptYKcE"
      },
      "execution_count": null,
      "outputs": []
    },
    {
      "cell_type": "code",
      "source": [
        "### CONFIRM WITH SOLUTION\n",
        "def ut_zero(year, month, day, ut):\n",
        "  # call functions with their params by placing params in the function you want to call a function on\n",
        "  return (julian_day(year, month, day)) + (ut/24)"
      ],
      "metadata": {
        "id": "5uzxxuY9YLVv"
      },
      "execution_count": null,
      "outputs": []
    },
    {
      "cell_type": "markdown",
      "source": [
        "**Sidereal time definition:** Measured by the rotation of the Earth relative to the fixed stars. A day in sidereal time is 23 hrs, 56 min, 4 sec; 4 minutes shorter than a solar day."
      ],
      "metadata": {
        "id": "XfoSLgU-YVjd"
      }
    },
    {
      "cell_type": "code",
      "source": [
        "def local_sidereal_time(theta_g, angle):\n",
        "  \"\"\"\n",
        "  theta_g: 0 hours of Greenwich meridan\n",
        "  angle: required to be in range(0, 360)\n",
        "  \"\"\"\n",
        "  return theta_g + angle"
      ],
      "metadata": {
        "id": "bEqZmS9HYWGY"
      },
      "execution_count": null,
      "outputs": []
    },
    {
      "cell_type": "code",
      "source": [
        "def julian_day_number(year, month, day, UT=12):\n",
        "  if month < 3:\n",
        "    year -= 1\n",
        "    month += 12\n",
        "  A = np.floor(year / 100)\n",
        "  B = 2 - A + np.floor(A / 4)\n",
        "  JD = np.floor(365.25 * (year + 4716)) + np.floor(30.6001 * (month + 1)) + day + B - 1524.5 + UT / 24\n",
        "  return JD"
      ],
      "metadata": {
        "id": "tJ4WTzOOYXlY"
      },
      "execution_count": null,
      "outputs": []
    },
    {
      "cell_type": "markdown",
      "source": [
        "## Chapter 8: Link Design and Analysis"
      ],
      "metadata": {
        "id": "NvujjLptDjXY"
      }
    },
    {
      "cell_type": "code",
      "source": [
        "# Linear-to-Decibel Calculator\n",
        "def lin2decibel(lin):\n",
        "    \"\"\"\n",
        "    Convert value from linear space to decibel space.\n",
        "    lin: value in linear space\n",
        "    \"\"\"\n",
        "    return 10*np.log10(lin)"
      ],
      "metadata": {
        "id": "m14cPKaPDmyU"
      },
      "execution_count": null,
      "outputs": []
    },
    {
      "cell_type": "code",
      "source": [
        "# Decibel-to-Linear Calculator\n",
        "def dec2linear(dec):\n",
        "    \"\"\"\n",
        "    Convert value from decibel space to linear space.\n",
        "    dec: value is dB\n",
        "    \"\"\"\n",
        "    return 10**(dec/10)"
      ],
      "metadata": {
        "id": "34tMZec6J18P"
      },
      "execution_count": null,
      "outputs": []
    },
    {
      "cell_type": "markdown",
      "source": [
        "### Notes on Decibel Arithmetic\n",
        "\n",
        "Addition in the logarithmic space is multiplication in the linear space. Assume you have three values $A$, $B$, and $C$.\n",
        "\n",
        "$\\log(A) + \\log(B) + \\log(C) = \\log(A * B * C)$\n",
        "\n",
        "Similarly, subtraction in logarithmic space is division in linear space.\n",
        "\n",
        "$\\log(A) - \\log(B) = \\log(\\frac{A}{B})$\n",
        "\n",
        "This is useful because it means that if you convert values from linear space into decibel units, you can just add these values together instead of multiplying them, which makes mathematical calculations much more simple."
      ],
      "metadata": {
        "id": "t0_i60ceKMT-"
      }
    },
    {
      "cell_type": "markdown",
      "source": [
        "## Chapter 9: Transmitter (Tx)"
      ],
      "metadata": {
        "id": "muGbdpQ_YbY-"
      }
    },
    {
      "cell_type": "code",
      "source": [
        "# Helper function for converting frequency to wavelength\n",
        "def freq2wave(frequency):\n",
        "  return c / frequency"
      ],
      "metadata": {
        "id": "Uma1bQp8Z0rX"
      },
      "execution_count": null,
      "outputs": []
    },
    {
      "cell_type": "code",
      "source": [
        "def gain(effective_aperture_area, wavelength):\n",
        "  \"\"\"\n",
        "  effective_aperture_area: ratio of received power to the power per unit area\n",
        "  \"\"\"\n",
        "  return ((4*np.pi) / wavelength ** 2) * effective_aperture_area"
      ],
      "metadata": {
        "id": "Wh0RdY61Yfv0"
      },
      "execution_count": null,
      "outputs": []
    },
    {
      "cell_type": "code",
      "source": [
        "def gain_max(antenna_efficiency, diameter, wavelength):\n",
        "  \"\"\"\n",
        "  The gain_max formula is used when there's a circular aperture versus gain which is used for isotropic antenna (* confirm *)\n",
        "  antenna_efficiency: efficiency of antenna, defined by the effective aperture area of antenna divided by surface area of antenna (unitless)\n",
        "  diameter: diameter of the antenna (m)\n",
        "  wavelength: the speed of light divided by the frequency of the wave (m)\n",
        "  \"\"\"\n",
        "  gain_max_formula = antenna_efficiency * ((np.pi * diameter) / wavelength) ** 2\n",
        "  return gain_max_formula"
      ],
      "metadata": {
        "id": "XJhYvwqxYgNz"
      },
      "execution_count": null,
      "outputs": []
    },
    {
      "cell_type": "code",
      "source": [
        "def three_dB_bandwidth(wavelength, diameter):\n",
        "  \"\"\"\n",
        "  Compute 3 dB bandwidth, which comes out to the angle at which a 3 dB beam\n",
        "  loses half its gain. This is useful for calculating pointing loss.\n",
        "\n",
        "  INPUTS:\n",
        "  - wavelength: the wavelength of the signal broadcasted\n",
        "  - diameter: the diameter of the antenna\n",
        "  \"\"\"\n",
        "  return 70 * (wavelength / diameter) # units are in dB"
      ],
      "metadata": {
        "id": "54s_xdJwYq4Y"
      },
      "execution_count": null,
      "outputs": []
    },
    {
      "cell_type": "code",
      "source": [
        "def loss_pointing(pointing_acc, wavelength, diameter):\n",
        "  \"\"\"\n",
        "  pointing_acc: the pointing accuracy of the antenna\n",
        "  wavelength: the wavelength of the signal broadcasted\n",
        "  diameter: the diameter of the antenna\n",
        "  \"\"\"\n",
        "  return 12 * (pointing_acc / three_dB_bandwidth(wavelength, diameter)) ** 2"
      ],
      "metadata": {
        "id": "tLx4wCcJY4b6"
      },
      "execution_count": null,
      "outputs": []
    },
    {
      "cell_type": "code",
      "source": [
        "def loss_polarization(angle_bt_rx_and_sig):\n",
        "  \"\"\"\n",
        "  This function is useful when the receiving antenna (Rx) is not oriented with\n",
        "  the same polarization as the transmitted wave. In other words, the electric\n",
        "  field of the transmitted wave is not pointing in the same direction as the \n",
        "  receiving antenna, which can cause signal loss. We can use this \n",
        "  formula to identify polarization mismatch.\n",
        "  angle_bt_rx_and_sig: the angle between the receiving antenna and the signal\n",
        "  \"\"\"\n",
        "  polarization = -20*np.log10(np.cos(angle_bt_rx_and_sig))\n",
        "  return polarization"
      ],
      "metadata": {
        "id": "rwA-xXD9Y6sM"
      },
      "execution_count": null,
      "outputs": []
    },
    {
      "cell_type": "markdown",
      "source": [
        "Feeder loss $L_{Feeder}$ is the loss of a signal when it is being transmitted between a power amplifier and antenna. It is mostly due to power degradation as the signal moves through hardware. This value is assumed to be between 0.5 dB and 1.5 dB."
      ],
      "metadata": {
        "id": "gi8OFjQ3deWt"
      }
    },
    {
      "cell_type": "code",
      "source": [
        "def eirp_func(transmitter_gain, transmitter_power, pointing_acc, wavelength, diameter, polar_mismatch, feeder_loss):\n",
        "  \"\"\"\n",
        "  Calculate the Effective Isotropic Radiated Power (EIRP) (measured in dBW),\n",
        "  which is used as a performance metric of a transmitter. All inputs should be\n",
        "  in dB.\n",
        "  \"\"\"\n",
        "  return transmitter_gain + transmitter_power - loss_pointing(pointing_acc, wavelength, diameter) - loss_polarization(polar_mismatch) - feeder_loss"
      ],
      "metadata": {
        "id": "glTkIznZY9DR"
      },
      "execution_count": null,
      "outputs": []
    },
    {
      "cell_type": "code",
      "source": [
        "### TESTED WITH NUMBERS IN TEXTBOOK\n",
        "\n",
        "# EIRP of a 2.4 m gateway antenna with 57 dBi of gain, 1.5 dB of feeder loss, and 4 W of RF output?\n",
        "# Note that wavelength can be any non-zero number in this instance, since there is no pointing loss assumed\n",
        "\n",
        "eirp_func(transmitter_gain=57, transmitter_power=lin2decibel(4), pointing_acc=0, wavelength=10, diameter=2.4, polar_mismatch=0, feeder_loss=1.5)"
      ],
      "metadata": {
        "colab": {
          "base_uri": "https://localhost:8080/"
        },
        "id": "M7Mq2XepeqWM",
        "outputId": "3724c460-146d-4236-866d-e90559be6da8"
      },
      "execution_count": null,
      "outputs": [
        {
          "output_type": "execute_result",
          "data": {
            "text/plain": [
              "61.520599913279625"
            ]
          },
          "metadata": {},
          "execution_count": 27
        }
      ]
    },
    {
      "cell_type": "code",
      "source": [
        "### TESTED WITH NUMBERS IN TEXTBOOK\n",
        "\n",
        "# EIRP of a 0.5 m gateway antenna with 36 dBi of gain, 1 dB of feeder loss, and 0.6 W of RF output?\n",
        "\n",
        "eirp_func(transmitter_gain=36, transmitter_power=lin2decibel(0.6), pointing_acc=0, wavelength=10, diameter=0.5, polar_mismatch=0, feeder_loss=1)"
      ],
      "metadata": {
        "colab": {
          "base_uri": "https://localhost:8080/"
        },
        "id": "-1HlRS7KgSFk",
        "outputId": "e781a87a-2a94-4c80-c8cb-f055d7eddcb0"
      },
      "execution_count": null,
      "outputs": [
        {
          "output_type": "execute_result",
          "data": {
            "text/plain": [
              "32.78151250383644"
            ]
          },
          "metadata": {},
          "execution_count": 28
        }
      ]
    },
    {
      "cell_type": "markdown",
      "source": [
        "## Chapter 10: Propogation"
      ],
      "metadata": {
        "id": "6gxfAOSOvwCO"
      }
    },
    {
      "cell_type": "code",
      "source": [
        "def fspl(alt, freq, dB=True):\n",
        "  \"\"\"\n",
        "  alt: (float) altitude in meters\n",
        "  freq: (float) frequency in Hz\n",
        "  \"\"\"\n",
        "  loss = (4*np.pi*alt/(c/freq))**2\n",
        "  if dB:\n",
        "    return lin2decibel(loss)\n",
        "  return loss"
      ],
      "metadata": {
        "id": "9Q5QQ8weZdwq"
      },
      "execution_count": null,
      "outputs": []
    },
    {
      "cell_type": "code",
      "source": [
        "fspl(geo*1000, 1.5e9) # L band"
      ],
      "metadata": {
        "colab": {
          "base_uri": "https://localhost:8080/"
        },
        "id": "Wbh0y72sSjFU",
        "outputId": "31475462-6756-42b5-8c35-b58a86f8943a"
      },
      "execution_count": null,
      "outputs": [
        {
          "output_type": "execute_result",
          "data": {
            "text/plain": [
              "187.03786051908588"
            ]
          },
          "metadata": {},
          "execution_count": 30
        }
      ]
    },
    {
      "cell_type": "code",
      "source": [
        "fspl(geo*1000, 10e9) # Ku band"
      ],
      "metadata": {
        "colab": {
          "base_uri": "https://localhost:8080/"
        },
        "id": "mI-JtPnvTEsK",
        "outputId": "595fc83a-2e74-44d0-d7fb-2c5f78905553"
      },
      "execution_count": null,
      "outputs": [
        {
          "output_type": "execute_result",
          "data": {
            "text/plain": [
              "203.51603533797226"
            ]
          },
          "metadata": {},
          "execution_count": 31
        }
      ]
    },
    {
      "cell_type": "markdown",
      "source": [
        "The function below is for calculating the linear distance between a transmitter/receiver and a satellite, given the height of the satellite above Earth and the elevation angle of the base station."
      ],
      "metadata": {
        "id": "NZ_Lf9RwX-SD"
      }
    },
    {
      "cell_type": "code",
      "source": [
        "# For finding the distance between a radio station and a satellite\n",
        "def get_distance(alt, angle_elev):\n",
        "  \"\"\"\n",
        "  Args:\n",
        "  - alt: (int) altitude of the satellite from Earth (km)\n",
        "  - angle_elev: (int) angle of radio pointed at satellite relative to surface of\n",
        "                      Earth (radians)\n",
        "  Returns:\n",
        "  - Distance between radio station and satellite\n",
        "  - All three angles in the path length triangle\n",
        "    - Angle at base station\n",
        "    - Angle at satellite\n",
        "    - Angle at center of Earth\n",
        "  - Other two sides of triangle:\n",
        "    - Re\n",
        "    - Re + h\n",
        "\n",
        "  \"\"\"\n",
        "  # # calculate angle of radio direction to radius of Earth\n",
        "  # theta = angle_elev + np.pi/2\n",
        "  # # calculate angle between direction of radio to satellite and perpendicular height\n",
        "  # # of satellite\n",
        "  # beta = np.arcsin(Re*np.sin(theta)/(Re + alt))\n",
        "  # Find angle between center of Earth to satellite and center of Earth to radio\n",
        "  phi = np.pi/2 - angle_elev - np.arcsin(Re/(Re+alt) * np.cos(angle_elev))\n",
        "  # Distance can be found with law of cosines\n",
        "  d = np.sqrt(Re**2 + (Re + alt)**2 - 2*Re*(Re + alt)*np.cos(phi))\n",
        "  return d#, (theta, beta, phi), (Re, Re + alt)"
      ],
      "metadata": {
        "id": "KI7mET9dVWcF"
      },
      "execution_count": null,
      "outputs": []
    },
    {
      "cell_type": "code",
      "source": [
        "def deg2rad(deg):\n",
        "  rad = deg*np.pi/180\n",
        "  return rad"
      ],
      "metadata": {
        "id": "tIF-Dg21aBWT"
      },
      "execution_count": null,
      "outputs": []
    },
    {
      "cell_type": "code",
      "source": [
        "deg2rad(50)"
      ],
      "metadata": {
        "colab": {
          "base_uri": "https://localhost:8080/"
        },
        "id": "UTehVHUBems6",
        "outputId": "95d8d6fc-b592-429a-95bc-83964c03ff37"
      },
      "execution_count": null,
      "outputs": [
        {
          "output_type": "execute_result",
          "data": {
            "text/plain": [
              "0.8726646259971648"
            ]
          },
          "metadata": {},
          "execution_count": 34
        }
      ]
    },
    {
      "cell_type": "code",
      "source": [
        "### TESTING\n",
        "\n",
        "# Given a satellite at an altitude of 500 km and an elevation angle of 50 deg,\n",
        "# compute the path length\n",
        "# Answer should be about 636.8 km\n",
        "\n",
        "get_distance(500, deg2rad(50))"
      ],
      "metadata": {
        "colab": {
          "base_uri": "https://localhost:8080/"
        },
        "id": "c3OfCShRl8NL",
        "outputId": "1aab1244-b44a-4c6a-dda7-86a4d9b39054"
      },
      "execution_count": null,
      "outputs": [
        {
          "output_type": "execute_result",
          "data": {
            "text/plain": [
              "636.7901147416413"
            ]
          },
          "metadata": {},
          "execution_count": 35
        }
      ]
    },
    {
      "cell_type": "markdown",
      "source": [
        "## Chapter 11: Receivers"
      ],
      "metadata": {
        "id": "ejZeRIN2v2pf"
      }
    },
    {
      "cell_type": "code",
      "source": [
        "def received_power(Ptx, Gtx, A, R):\n",
        "    \"\"\"\n",
        "    Computing the received power, or strength of the signal in front of receiver\n",
        "    antenna.\n",
        "\n",
        "    INPUTS:\n",
        "    - Ptx: transmitter power (W)\n",
        "    - Gtx: transmitter gain (unitless)\n",
        "    - A  : surface area of the receiver antenna (m^2)\n",
        "           can also be effective aperture if more applicable\n",
        "    - R  : distance between Tx and Rx antennas (m)\n",
        "    OUTPUTS:\n",
        "    - Pr : received power (W)\n",
        "    \"\"\"\n",
        "    return ((Ptx * Gtx)/(4*np.pi)) * (A / R**2)"
      ],
      "metadata": {
        "id": "GigwLLK5ixOI"
      },
      "execution_count": null,
      "outputs": []
    },
    {
      "cell_type": "code",
      "source": [
        "def eff_aperture_rx(Grx, wavelength):\n",
        "    \"\"\"\n",
        "    Compute effective aperture of the Rx, can be used in above formula to find\n",
        "    received power.\n",
        "\n",
        "    INPUTS:\n",
        "    - Grx: gain of receiver (unitless)\n",
        "    - wavelength: wavelength of incoming signal (m)\n",
        "    OUTPUTS:\n",
        "    - A_eff: effective aperture (m^2)\n",
        "    \"\"\"\n",
        "    return Grx / (4*np.pi / wavelength**2)"
      ],
      "metadata": {
        "id": "4da5IFRBkMNl"
      },
      "execution_count": null,
      "outputs": []
    },
    {
      "cell_type": "markdown",
      "source": [
        "**Friis Equation**: This is a way of defining received power which includes defining it using losses at the transmitter and receiver. $L_{Tx}$ and $L_{Rx}$ are the feeder losses of the transmitting and receiving antennae.\n",
        "\n",
        "$P_{Rx} = \\left(\\frac{P_{Tx}G_{Tx}G_{Rx}}{L_{Tx}L_{Rx}}\\right)\\left(\\frac{\\lambda}{4\\pi R}\\right)^2$"
      ],
      "metadata": {
        "id": "sYbuuVx_nR6U"
      }
    },
    {
      "cell_type": "code",
      "source": [
        "def friis(Ptx, Gtx, Grx, Ltx, Lrx, frequency, distance):\n",
        "    \"\"\"\n",
        "    Compute received power using different terms. This uses the Friis equation,\n",
        "    defined above.\n",
        "\n",
        "    INPUTS:\n",
        "    - Ptx: transmitting power (W)\n",
        "    - Gtx: transmitting gain (unitless)\n",
        "    - Grx: receiving gain (unitless)\n",
        "    - Ltx: feeder loss at transmitter (unitless) (may be expressed in dB)\n",
        "    - Lrx: feeder loss at receiver (unitless) (may be expressed in dB)\n",
        "    - frequency: frequency of the incoming signal (Hz)\n",
        "    - distance: distance between transmitter and receiver (m)\n",
        "    OUTPUTS:\n",
        "    - Prx: receiving power (W)\n",
        "    \"\"\"\n",
        "    # Compute FSPL\n",
        "    loss = fspl(distance, frequency)\n",
        "    # Find \"left fraction\"\n",
        "    gains_on_losses = (Ptx * Gtx * Grx) / (Ltx * Lrx)\n",
        "\n",
        "    return gains_on_losses / loss"
      ],
      "metadata": {
        "id": "YlpcyFSsnBLi"
      },
      "execution_count": null,
      "outputs": []
    },
    {
      "cell_type": "markdown",
      "source": [
        "**Example problem!**\n",
        "\n",
        "Consider the transmission from an Earth Station (ES) to a geostationary (GEO) satellite at Ka-band (27.5 GHz).\n",
        "1. What is the receive gain, $G_{Rx}$, of a system with a 3 dB beamwidth of 2 degrees and an efficiency of 0.55?\n",
        "\n"
      ],
      "metadata": {
        "id": "JFcJpA_Bqo97"
      }
    },
    {
      "cell_type": "code",
      "source": [
        "# First, compute wavelength for signals at Ka-band\n",
        "ka_wave = freq2wave(27.5e9)\n",
        "\n",
        "# We can then calculate diameter of signal since we know the 3 dB beamwidth\n",
        "# 3dB = 70 * (wavelength / distance)\n",
        "diam = 70 * (ka_wave / 2)\n",
        "\n",
        "# Calculate gain\n",
        "Grx = gain_max(0.55, diam, ka_wave)\n",
        "lin2decibel(Grx) # gain in dB"
      ],
      "metadata": {
        "colab": {
          "base_uri": "https://localhost:8080/"
        },
        "id": "5PmXgA5_rAgr",
        "outputId": "cd648ff1-f889-4f99-ca76-9ec0481ffc9a"
      },
      "execution_count": null,
      "outputs": [
        {
          "output_type": "execute_result",
          "data": {
            "text/plain": [
              "38.22798523583063"
            ]
          },
          "metadata": {},
          "execution_count": 39
        }
      ]
    },
    {
      "cell_type": "markdown",
      "source": [
        "2. If the EIRP of the Tx is 60 dBW, what is the receiving power at the GEO satellite?"
      ],
      "metadata": {
        "id": "DB5fVr5YsAFB"
      }
    },
    {
      "cell_type": "code",
      "source": [
        "# EIRP accounts for Ptx, Gtx, Ltx, and Lrx, so we can set one of these variables\n",
        "# as EIRP in the Friis function and the rest to one\n",
        "eirp = dec2linear(60)\n",
        "\n",
        "# Altitude of GEO satellite is defined as constant\n",
        "geo_alt = geo # 35786 km\n",
        "\n",
        "# Calculate Prx using Friis Equation\n",
        "Prx = friis(eirp, 1, Grx, 1, 1, 27.5e9, geo_alt)\n",
        "lin2decibel(Prx) # dBW"
      ],
      "metadata": {
        "colab": {
          "base_uri": "https://localhost:8080/"
        },
        "id": "rfnVA7jqsHwH",
        "outputId": "09279ce3-40ab-4a08-a5fb-72e4b9ffb3fd"
      },
      "execution_count": null,
      "outputs": [
        {
          "output_type": "execute_result",
          "data": {
            "text/plain": [
              "76.4009095182456"
            ]
          },
          "metadata": {},
          "execution_count": 40
        }
      ]
    },
    {
      "cell_type": "markdown",
      "source": [
        "### G/T"
      ],
      "metadata": {
        "id": "qS51RCCcv_Ua"
      }
    },
    {
      "cell_type": "code",
      "source": [
        "def g_on_t(Grx, Tsys):\n",
        "    \"\"\"\n",
        "    G on T, or Gain Over Temperature, is a metric for measuring the performance\n",
        "    of a receiver, just like EIRP is a metric for measuring performance of a\n",
        "    transmitter.\n",
        "\n",
        "    INPUTS:\n",
        "    - Grx: receiver gain (unitless)\n",
        "    - Tsys: system noise temperature (K)\n",
        "    \"\"\"\n",
        "    return Grx / Tsys"
      ],
      "metadata": {
        "id": "l-1u6pL9tx5O"
      },
      "execution_count": null,
      "outputs": []
    },
    {
      "cell_type": "markdown",
      "source": [
        "### System Noise Temperature ($T_{sys}$)"
      ],
      "metadata": {
        "id": "rraErrMUwCyT"
      }
    },
    {
      "cell_type": "markdown",
      "source": [
        "There are two ways to calculate the system noise temperature: you can compute it at the output of the receiving antenna before a signal is affected by feeder loss ($T_1$), or you can compute it at the input to the receiver itself after it has been affected by feeder loss ($T_2$). Both functions below compute these two noise temperatures."
      ],
      "metadata": {
        "id": "F35BRHjRwKsI"
      }
    },
    {
      "cell_type": "code",
      "source": [
        "def get_tsys1(Ta, Tf, Teff, Lf, Grx):\n",
        "    \"\"\"\n",
        "    Compute the system noise temperature assuming it to be taken before\n",
        "    feeder loss takes effect.\n",
        "\n",
        "    INPUTS:\n",
        "    - Ta  : antenna noise temperature (see below)\n",
        "    - Tf  : feeder operating temperature\n",
        "    - Teff: low noise amplifier (LNA) effective temperature\n",
        "    - Lf  : feeder loss\n",
        "    - Grx : receiver gain\n",
        "    \"\"\"\n",
        "    return Ta + (Lf - 1)*Tf + (Teff / Grx)"
      ],
      "metadata": {
        "id": "M8U2T9yRwIN8"
      },
      "execution_count": null,
      "outputs": []
    },
    {
      "cell_type": "code",
      "source": [
        "def get_tsys2(Ta, Tf, Teff, Lf):\n",
        "    \"\"\"\n",
        "    Compute the system noise temperature assuming it to be taken after\n",
        "    feeder loss takes effect.\n",
        "\n",
        "    INPUTS:\n",
        "    - Ta  : antenna noise temperature (see below)\n",
        "    - Tf  : feeder operating temperature\n",
        "    - Teff: low noise amplifier (LNA) effective temperature\n",
        "    - Lf  : feeder loss\n",
        "    \"\"\"\n",
        "    return Ta/Lf + Tf*(1 - 1/Lf) + Teff"
      ],
      "metadata": {
        "id": "KOkmHcKQxcp-"
      },
      "execution_count": null,
      "outputs": []
    },
    {
      "cell_type": "code",
      "source": [
        "def antenna_temp(Tsky, Tgnd):\n",
        "    \"\"\"\n",
        "    Compute antenna noise temperature.\n",
        "\n",
        "    INPUTS:\n",
        "    - Tsky : sky temperature (K)\n",
        "    - Tgnd : ground temperature (K)\n",
        "    \"\"\"\n",
        "    return Tsky + Tgnd"
      ],
      "metadata": {
        "id": "OKFXOpHGazMk"
      },
      "execution_count": null,
      "outputs": []
    },
    {
      "cell_type": "code",
      "source": [
        "def amplifier_temp(NF, Teff=0):\n",
        "    \"\"\"\n",
        "    Compute the amplifier noise temperature.\n",
        "\n",
        "    INPUTS:\n",
        "    - Teff : effective noise temperature\n",
        "    - NF   : LNA noise figure (dB)\n",
        "    \"\"\"\n",
        "    # Define standard reference noise temperature (K)\n",
        "    To = 290\n",
        "\n",
        "    # If Teff is still default, calculate it; otherwise, set it equal to Teff\n",
        "    if Teff:\n",
        "        return Teff\n",
        "    return To*(dec2linear(NF) - 1)"
      ],
      "metadata": {
        "id": "SyP2z8MFbigf"
      },
      "execution_count": null,
      "outputs": []
    },
    {
      "cell_type": "markdown",
      "source": [
        "## Chapter 12: Performance Parameters\n",
        "\n"
      ],
      "metadata": {
        "id": "qxCzbtGDl8US"
      }
    },
    {
      "cell_type": "code",
      "source": [
        "# Carrier to noise power ratio\n",
        "def c_to_n(eirp, space_loss, atm_loss, g_on_t, bandwidth):\n",
        "    \"\"\"\n",
        "    Compute carrier-to-noise ratio.\n",
        "\n",
        "    INPUTS:\n",
        "    - eirp       : EIRP (dBW)\n",
        "    - space_loss : loss through space, FSPL (dB)\n",
        "    - atm_loss   : loss through the atmosphere (dB)\n",
        "    - g_on_t     : receiver gain over system noise temperature (dB)\n",
        "    - bandwidth  : frequency range of the part of spectrum where signals are\n",
        "                   being transmitted (Hz)\n",
        "    \"\"\"\n",
        "    return eirp + space_loss + atm_loss + g_on_t - k_dB - lin2decibel(bandwidth)"
      ],
      "metadata": {
        "id": "ZGZpPUV3mBUl"
      },
      "execution_count": null,
      "outputs": []
    },
    {
      "cell_type": "code",
      "source": [
        "# Carrier to noise power ratio\n",
        "def c_to_n0(eirp, space_loss, atm_loss, g_on_t):\n",
        "    \"\"\"\n",
        "    Compute carrier-to-noise ratio referenced to 1 Hz.\n",
        "\n",
        "    INPUTS:\n",
        "    - eirp       : EIRP (dBW)\n",
        "    - space_loss : loss through space, FSPL (dB)\n",
        "    - atm_loss   : loss through the atmosphere (dB)\n",
        "    - g_on_t     : receiver gain over system noise temperature (dB)\n",
        "    \"\"\"\n",
        "    return eirp + space_loss + atm_loss + g_on_t - k_dB"
      ],
      "metadata": {
        "id": "hmhr1-pnnZLm"
      },
      "execution_count": null,
      "outputs": []
    },
    {
      "cell_type": "code",
      "source": [
        "def eb_no(eirp, space_loss, atm_loss, g_on_t, R):\n",
        "    \"\"\"\n",
        "    Compute the energy per bit to noise spectral density ratio, Eb/No.\n",
        "    The C/N metric can be calculated by:\n",
        "              C/N = Eb/No + R - B\n",
        "\n",
        "    INPUTS:\n",
        "    - eirp       : EIRP (dBW)\n",
        "    - space_loss : loss through space, FSPL (dB)\n",
        "    - atm_loss   : loss through the atmosphere (dB)\n",
        "    - g_on_t     : receiver gain over system noise temperature (dB)\n",
        "    - R          : distance between transmitter and receiver (dBi)\n",
        "    \"\"\"\n",
        "    return eirp + space_loss + atm_loss + g_on_t - k_dB - R"
      ],
      "metadata": {
        "id": "MGbDFngInhs6"
      },
      "execution_count": null,
      "outputs": []
    },
    {
      "cell_type": "code",
      "source": [
        "### TESTING: Calculate EIRP, C/N, and C/No for the following:\n",
        "\n",
        "Gtx = 28.5 # dBi\n",
        "Ptx = lin2decibel(1) # dBW\n",
        "Ltx = 1.4 # dB\n",
        "g_on_t = -4.95 # dB/K\n",
        "L_atm = 1.5 # dB\n",
        "f = 14.25e9 # Hz\n",
        "B = 1.625e6 # Hz\n",
        "\n",
        "eirp = eirp_func(Gtx, Ptx, 0, c/f, 3, 0, Ltx)\n",
        "FSPL = lin2decibel(fspl(geo*1000, f))\n",
        "C_No = c_to_n0(eirp, -FSPL, -L_atm, g_on_t)\n",
        "C_N = c_to_n(eirp, -FSPL, -L_atm, g_on_t, B)\n",
        "C_N"
      ],
      "metadata": {
        "colab": {
          "base_uri": "https://localhost:8080/"
        },
        "id": "TJOSbOPwoGAO",
        "outputId": "2af878eb-e869-4072-97ca-b665165f8f96"
      },
      "execution_count": null,
      "outputs": [
        {
          "output_type": "execute_result",
          "data": {
            "text/plain": [
              "163.99032435412948"
            ]
          },
          "metadata": {},
          "execution_count": 49
        }
      ]
    },
    {
      "cell_type": "code",
      "source": [
        "# Calculate data rate\n",
        "def get_data_rate(c_to_n, bandwidth):\n",
        "    \"\"\"\n",
        "    Calculate the data rate. \n",
        "\n",
        "    INPUTS:\n",
        "    - c_to_n: the carrier-to-noise ratio (dB)\n",
        "    - bandwidth: the bandwidth frequency (Hz)\n",
        "    \"\"\"\n",
        "    return B*np.log2(1 + c_to_n)"
      ],
      "metadata": {
        "id": "8LFTgQYlRMRf"
      },
      "execution_count": null,
      "outputs": []
    },
    {
      "cell_type": "markdown",
      "source": [
        "## Workspace\n",
        "\n"
      ],
      "metadata": {
        "id": "vVE343qQ0kya"
      }
    },
    {
      "cell_type": "markdown",
      "source": [
        "### Exercise 10.5"
      ],
      "metadata": {
        "id": "vMWMFW-P-l3S"
      }
    },
    {
      "cell_type": "code",
      "source": [
        "def fspl_vs_ang(alt: int, freq: int) -> None:    \n",
        "    # Get linear space of angles\n",
        "    angles = np.linspace(0, 90, 100)\n",
        "    # Calculate path lengths given range of elevation angles at 1000 km\n",
        "    dists = get_distance(alt, deg2rad(angles))\n",
        "    # Compute free space path loss \n",
        "    losses = fspl(dists*1000, freq)\n",
        "\n",
        "    # Plotting FSPLs against elevation angles\n",
        "    plt.plot(angles, losses)\n",
        "    plt.xlabel('Elevation angles (deg)'); plt.ylabel('Free space path loss (dB)')\n",
        "    plt.title('Free space path loss vs. elevation angle @ 12 GHz and 1000 km')\n",
        "\n",
        "    plt.savefig('fspl_vs_ang.png')"
      ],
      "metadata": {
        "id": "r__phJ046TXo"
      },
      "execution_count": null,
      "outputs": []
    },
    {
      "cell_type": "code",
      "source": [
        "fspl_vs_ang(geo, 12e9)"
      ],
      "metadata": {
        "colab": {
          "base_uri": "https://localhost:8080/",
          "height": 472
        },
        "id": "c6G7O4cb8niw",
        "outputId": "efddbe46-cddc-4db8-f0c6-a52ad6ca17cc"
      },
      "execution_count": null,
      "outputs": [
        {
          "output_type": "display_data",
          "data": {
            "text/plain": [
              "<Figure size 640x480 with 1 Axes>"
            ],
            "image/png": "[encoded data removed]"
          },
          "metadata": {}
        }
      ]
    },
    {
      "cell_type": "markdown",
      "source": [
        "### Exercise 12.6"
      ],
      "metadata": {
        "id": "jKXR3K67Pn3y"
      }
    },
    {
      "cell_type": "code",
      "source": [
        "# Exercise 12.6\n",
        "\n",
        "dist = get_distance(1000, deg2rad(65))\n",
        "loss = fspl(dist*1000, 40e9)\n",
        "Gtx = lin2decibel(gain_max(.65, 2.4, freq2wave(40e9)))\n",
        "Grx = lin2decibel(gain_max(.65, 1.5, freq2wave(40e9)))\n",
        "Prx = lin2decibel(200) + Gtx + Grx - loss\n",
        "Prx"
      ],
      "metadata": {
        "colab": {
          "base_uri": "https://localhost:8080/"
        },
        "id": "OcAiIpDyRr2D",
        "outputId": "a5c09dfb-4804-46a9-a7f6-a194c3022089"
      },
      "execution_count": null,
      "outputs": [
        {
          "output_type": "execute_result",
          "data": {
            "text/plain": [
              "-49.933922749561475"
            ]
          },
          "metadata": {},
          "execution_count": 63
        }
      ]
    }
  ]
}